{
 "cells": [
  {
   "cell_type": "code",
   "execution_count": 1,
   "metadata": {},
   "outputs": [],
   "source": [
    "import numpy as np\n",
    "# Example dummy data from Rendle 2010 \n",
    "# http://www.csie.ntu.edu.tw/~b97053/paper/Rendle2010FM.pdf\n",
    "# Stolen from https://github.com/coreylynch/pyFM\n",
    "# Categorical variables (Users, Movies, Last Rated) have been one-hot-encoded \n",
    "x_data = np.matrix([\n",
    "#    Users  |     Movies     |    Movie Ratings   | Time | Last Movies Rated\n",
    "#   A  B  C | TI  NH  SW  ST | TI   NH   SW   ST  |      | TI  NH  SW  ST\n",
    "    [1, 0, 0,  1,  0,  0,  0,   0.3, 0.3, 0.3, 0,     13,   0,  0,  0,  0 ],\n",
    "    [1, 0, 0,  0,  1,  0,  0,   0.3, 0.3, 0.3, 0,     14,   1,  0,  0,  0 ],\n",
    "    [1, 0, 0,  0,  0,  1,  0,   0.3, 0.3, 0.3, 0,     16,   0,  1,  0,  0 ],\n",
    "    [0, 1, 0,  0,  0,  1,  0,   0,   0,   0.5, 0.5,   5,    0,  0,  0,  0 ],\n",
    "    [0, 1, 0,  0,  0,  0,  1,   0,   0,   0.5, 0.5,   8,    0,  0,  1,  0 ],\n",
    "    [0, 0, 1,  1,  0,  0,  0,   0.5, 0,   0.5, 0,     9,    0,  0,  0,  0 ],\n",
    "    [0, 0, 1,  0,  0,  1,  0,   0.5, 0,   0.5, 0,     12,   1,  0,  0,  0 ]\n",
    "])\n",
    "# ratings\n",
    "y_data = np.array([5, 3, 1, 4, 5, 1, 5])\n",
    "\n",
    "# Let's add an axis to make tensoflow happy.\n",
    "y_data.shape += (1, )"
   ]
  },
  {
   "cell_type": "code",
   "execution_count": 2,
   "metadata": {},
   "outputs": [
    {
     "name": "stdout",
     "output_type": "stream",
     "text": [
      "WARNING:tensorflow:From D:\\ProgramData\\Anaconda3\\lib\\site-packages\\tensorflow\\python\\compat\\v2_compat.py:96: disable_resource_variables (from tensorflow.python.ops.variable_scope) is deprecated and will be removed in a future version.\n",
      "Instructions for updating:\n",
      "non-resource variables are not supported in the long term\n"
     ]
    }
   ],
   "source": [
    "import tensorflow.compat.v1 as tf \n",
    "tf.disable_v2_behavior()\n",
    "\n",
    "n, p = x_data.shape\n",
    "\n",
    "# number of latent factors\n",
    "k = 5\n",
    "\n",
    "# design matrix\n",
    "X = tf.placeholder('float', shape=[n, p])\n",
    "# target vector\n",
    "y = tf.placeholder('float', shape=[n, 1])\n",
    "\n",
    "# bias and weights\n",
    "w0 = tf.Variable(tf.zeros([1]))\n",
    "W = tf.Variable(tf.zeros([p]))\n",
    "\n",
    "# interaction factors, randomly initialized \n",
    "V = tf.Variable(tf.random_normal([k, p], stddev=0.01))\n",
    "\n",
    "# estimate of y, initialized to 0.\n",
    "y_hat = tf.Variable(tf.zeros([n, 1]))"
   ]
  },
  {
   "cell_type": "code",
   "execution_count": 5,
   "metadata": {},
   "outputs": [
    {
     "data": {
      "text/plain": [
       "(7, 16)"
      ]
     },
     "execution_count": 5,
     "metadata": {},
     "output_type": "execute_result"
    }
   ],
   "source": [
    "n, p"
   ]
  },
  {
   "cell_type": "code",
   "execution_count": 3,
   "metadata": {},
   "outputs": [
    {
     "name": "stdout",
     "output_type": "stream",
     "text": [
      "WARNING:tensorflow:From D:\\ProgramData\\Anaconda3\\lib\\site-packages\\tensorflow\\python\\util\\dispatch.py:201: calling reduce_sum_v1 (from tensorflow.python.ops.math_ops) with keep_dims is deprecated and will be removed in a future version.\n",
      "Instructions for updating:\n",
      "keep_dims is deprecated, use keepdims instead\n"
     ]
    }
   ],
   "source": [
    "linear_terms = tf.add(w0,\n",
    "        \ttf.reduce_sum(\n",
    "                tf.multiply(W, X), 1, keep_dims=True))"
   ]
  },
  {
   "cell_type": "code",
   "execution_count": 4,
   "metadata": {},
   "outputs": [
    {
     "data": {
      "text/plain": [
       "<tf.Tensor 'Add:0' shape=(7, 1) dtype=float32>"
      ]
     },
     "execution_count": 4,
     "metadata": {},
     "output_type": "execute_result"
    }
   ],
   "source": [
    "linear_terms"
   ]
  },
  {
   "cell_type": "code",
   "execution_count": 7,
   "metadata": {},
   "outputs": [],
   "source": [
    "interactions = (tf.multiply(0.5,\n",
    "                tf.reduce_sum(\n",
    "                    tf.subtract(\n",
    "                        tf.pow( tf.matmul(X, tf.transpose(V)), 2),\n",
    "                        tf.matmul(tf.pow(X, 2), tf.transpose(tf.pow(V, 2)))),\n",
    "                    1, keep_dims=True)))"
   ]
  },
  {
   "cell_type": "code",
   "execution_count": 8,
   "metadata": {},
   "outputs": [],
   "source": [
    "y_hat = tf.add(linear_terms, interactions)"
   ]
  },
  {
   "cell_type": "code",
   "execution_count": 10,
   "metadata": {},
   "outputs": [],
   "source": [
    "# L2 regularized sum of squares loss function over W and V\n",
    "lambda_w = tf.constant(0.001, name='lambda_w')\n",
    "lambda_v = tf.constant(0.001, name='lambda_v')\n",
    "\n",
    "l2_norm = (tf.reduce_sum(\n",
    "            tf.add(\n",
    "                tf.multiply(lambda_w, tf.pow(W, 2)),\n",
    "                tf.multiply(lambda_v, tf.pow(V, 2)))))\n",
    "\n",
    "# RMSE\n",
    "error = tf.reduce_mean(tf.square(tf.subtract(y, y_hat)))\n",
    "loss = tf.add(error, l2_norm)"
   ]
  },
  {
   "cell_type": "code",
   "execution_count": 11,
   "metadata": {},
   "outputs": [
    {
     "name": "stdout",
     "output_type": "stream",
     "text": [
      "WARNING:tensorflow:From D:\\ProgramData\\Anaconda3\\lib\\site-packages\\tensorflow\\python\\training\\adagrad.py:76: calling Constant.__init__ (from tensorflow.python.ops.init_ops) with dtype is deprecated and will be removed in a future version.\n",
      "Instructions for updating:\n",
      "Call initializer instance with the dtype argument instead of passing it to the constructor\n"
     ]
    }
   ],
   "source": [
    "eta = tf.constant(0.1)\n",
    "optimizer = tf.train.AdagradOptimizer(eta).minimize(loss)"
   ]
  },
  {
   "cell_type": "code",
   "execution_count": 13,
   "metadata": {},
   "outputs": [
    {
     "name": "stdout",
     "output_type": "stream",
     "text": [
      "MSE:  0.0044050748\n",
      "Predictions: [[5.081253 ]\n",
      " [5.0518894]\n",
      " [3.0838358]\n",
      " [1.0436764]\n",
      " [4.0323477]\n",
      " [5.065708 ]\n",
      " [1.0850937]]\n",
      "Learnt weights: [ 0.13635181  0.19766596 -0.03186483  0.02113623 -0.02653375  0.22009058\n",
      "  0.11088109  0.03780856  0.07645553  0.11784102  0.15178187  0.14284982\n",
      "  0.20054369 -0.16749643  0.11088109  0.        ]\n",
      "Learnt factors: [[-0.10494551 -0.19234876  0.22817788 -0.1678408   0.29083398 -0.1852807\n",
      "  -0.03855143  0.05543079 -0.03392858 -0.01233472 -0.16743346 -0.2631486\n",
      "  -0.23118618  0.4031098  -0.03809712 -0.00327708]\n",
      " [ 0.07176904  0.06602597 -0.10174442  0.03883934 -0.25926298  0.21418482\n",
      "  -0.00602418 -0.00453841  0.06581829  0.01134072  0.06563146  0.12493236\n",
      "   0.1587334  -0.37870723 -0.00877855  0.00266193]\n",
      " [-0.04569362 -0.23930354  0.1855503  -0.07958347  0.32545704 -0.24685396\n",
      "  -0.06033328  0.05377555  0.00151584 -0.05488924 -0.18684167 -0.24503146\n",
      "  -0.2753475   0.3958811  -0.06316943  0.00135601]\n",
      " [ 0.14242397  0.23169844 -0.16128148  0.19310626 -0.22405024  0.19459367\n",
      "   0.09269895 -0.01895216  0.06734385  0.0574729   0.20920904  0.25667173\n",
      "   0.24053536 -0.40577257  0.10201339 -0.00867739]\n",
      " [ 0.00900454  0.03735997  0.00403195 -0.01020409 -0.0465093   0.05126599\n",
      "   0.03077633 -0.00185496  0.00562531  0.00951949  0.03825118  0.01841801\n",
      "   0.0264401  -0.10769655  0.02091334  0.00441598]]\n"
     ]
    }
   ],
   "source": [
    "# that's a lot of iterations\n",
    "N_EPOCHS = 1000\n",
    "# Launch the graph.\n",
    "init = tf.global_variables_initializer()\n",
    "with tf.Session() as sess:\n",
    "    sess.run(init)\n",
    "\n",
    "    for epoch in range(N_EPOCHS):\n",
    "        indices = np.arange(n)\n",
    "        np.random.shuffle(indices)\n",
    "        x_data, y_data = x_data[indices], y_data[indices]\n",
    "        sess.run(optimizer, feed_dict={X: x_data, y: y_data})\n",
    "\n",
    "    print('MSE: ', sess.run(error, feed_dict={X: x_data, y: y_data}))\n",
    "#     print('Loss (regularized error):', sess.run(cost, feed_dict={X: x_data, y: y_data}))\n",
    "    print('Predictions:', sess.run(y_hat, feed_dict={X: x_data, y: y_data}))\n",
    "    print('Learnt weights:', sess.run(W, feed_dict={X: x_data, y: y_data}))\n",
    "    print('Learnt factors:', sess.run(V, feed_dict={X: x_data, y: y_data}))"
   ]
  },
  {
   "cell_type": "code",
   "execution_count": null,
   "metadata": {},
   "outputs": [],
   "source": []
  }
 ],
 "metadata": {
  "kernelspec": {
   "display_name": "Python 3",
   "language": "python",
   "name": "python3"
  },
  "language_info": {
   "codemirror_mode": {
    "name": "ipython",
    "version": 3
   },
   "file_extension": ".py",
   "mimetype": "text/x-python",
   "name": "python",
   "nbconvert_exporter": "python",
   "pygments_lexer": "ipython3",
   "version": "3.8.5"
  }
 },
 "nbformat": 4,
 "nbformat_minor": 4
}
