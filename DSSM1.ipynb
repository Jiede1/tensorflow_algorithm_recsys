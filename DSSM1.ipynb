{
 "cells": [
  {
   "cell_type": "code",
   "execution_count": 10,
   "metadata": {},
   "outputs": [],
   "source": [
    "import pandas as pd\n",
    "from sklearn.utils import shuffle\n",
    "from sklearn.model_selection import train_test_split\n",
    "import numpy as np\n",
    "\n",
    "from tensorflow.keras.utils import plot_model"
   ]
  },
  {
   "cell_type": "code",
   "execution_count": 2,
   "metadata": {},
   "outputs": [
    {
     "data": {
      "text/html": [
       "<div>\n",
       "<style scoped>\n",
       "    .dataframe tbody tr th:only-of-type {\n",
       "        vertical-align: middle;\n",
       "    }\n",
       "\n",
       "    .dataframe tbody tr th {\n",
       "        vertical-align: top;\n",
       "    }\n",
       "\n",
       "    .dataframe thead th {\n",
       "        text-align: right;\n",
       "    }\n",
       "</style>\n",
       "<table border=\"1\" class=\"dataframe\">\n",
       "  <thead>\n",
       "    <tr style=\"text-align: right;\">\n",
       "      <th></th>\n",
       "      <th>user_id</th>\n",
       "      <th>gender</th>\n",
       "      <th>age</th>\n",
       "      <th>hist_movie_id</th>\n",
       "      <th>hist_len</th>\n",
       "      <th>movie_id</th>\n",
       "      <th>movie_type_id</th>\n",
       "      <th>label</th>\n",
       "    </tr>\n",
       "  </thead>\n",
       "  <tbody>\n",
       "    <tr>\n",
       "      <th>0</th>\n",
       "      <td>1</td>\n",
       "      <td>1</td>\n",
       "      <td>1</td>\n",
       "      <td>186,0,0,0,0,0,0,0,0,0,0,0,0,0,0,0,0,0,0,0,0,0,...</td>\n",
       "      <td>1</td>\n",
       "      <td>112</td>\n",
       "      <td>2</td>\n",
       "      <td>1</td>\n",
       "    </tr>\n",
       "    <tr>\n",
       "      <th>1</th>\n",
       "      <td>1</td>\n",
       "      <td>1</td>\n",
       "      <td>1</td>\n",
       "      <td>186,0,0,0,0,0,0,0,0,0,0,0,0,0,0,0,0,0,0,0,0,0,...</td>\n",
       "      <td>1</td>\n",
       "      <td>38</td>\n",
       "      <td>5</td>\n",
       "      <td>0</td>\n",
       "    </tr>\n",
       "    <tr>\n",
       "      <th>2</th>\n",
       "      <td>1</td>\n",
       "      <td>1</td>\n",
       "      <td>1</td>\n",
       "      <td>186,0,0,0,0,0,0,0,0,0,0,0,0,0,0,0,0,0,0,0,0,0,...</td>\n",
       "      <td>1</td>\n",
       "      <td>151</td>\n",
       "      <td>7</td>\n",
       "      <td>0</td>\n",
       "    </tr>\n",
       "    <tr>\n",
       "      <th>3</th>\n",
       "      <td>1</td>\n",
       "      <td>1</td>\n",
       "      <td>1</td>\n",
       "      <td>186,0,0,0,0,0,0,0,0,0,0,0,0,0,0,0,0,0,0,0,0,0,...</td>\n",
       "      <td>1</td>\n",
       "      <td>77</td>\n",
       "      <td>6</td>\n",
       "      <td>0</td>\n",
       "    </tr>\n",
       "    <tr>\n",
       "      <th>4</th>\n",
       "      <td>1</td>\n",
       "      <td>1</td>\n",
       "      <td>1</td>\n",
       "      <td>186,0,0,0,0,0,0,0,0,0,0,0,0,0,0,0,0,0,0,0,0,0,...</td>\n",
       "      <td>1</td>\n",
       "      <td>188</td>\n",
       "      <td>9</td>\n",
       "      <td>0</td>\n",
       "    </tr>\n",
       "  </tbody>\n",
       "</table>\n",
       "</div>"
      ],
      "text/plain": [
       "   user_id  gender  age                                      hist_movie_id  \\\n",
       "0        1       1    1  186,0,0,0,0,0,0,0,0,0,0,0,0,0,0,0,0,0,0,0,0,0,...   \n",
       "1        1       1    1  186,0,0,0,0,0,0,0,0,0,0,0,0,0,0,0,0,0,0,0,0,0,...   \n",
       "2        1       1    1  186,0,0,0,0,0,0,0,0,0,0,0,0,0,0,0,0,0,0,0,0,0,...   \n",
       "3        1       1    1  186,0,0,0,0,0,0,0,0,0,0,0,0,0,0,0,0,0,0,0,0,0,...   \n",
       "4        1       1    1  186,0,0,0,0,0,0,0,0,0,0,0,0,0,0,0,0,0,0,0,0,0,...   \n",
       "\n",
       "   hist_len  movie_id  movie_type_id  label  \n",
       "0         1       112              2      1  \n",
       "1         1        38              5      0  \n",
       "2         1       151              7      0  \n",
       "3         1        77              6      0  \n",
       "4         1       188              9      0  "
      ]
     },
     "execution_count": 2,
     "metadata": {},
     "output_type": "execute_result"
    }
   ],
   "source": [
    "samples_data = pd.read_csv(\"D:\\data\\samples.txt\", sep=\"\\t\", header = None)\n",
    "samples_data.columns = [\"user_id\", \"gender\", \"age\", \"hist_movie_id\", \"hist_len\", \"movie_id\", \"movie_type_id\", \"label\"]\n",
    "\n",
    "samples_data.head()"
   ]
  },
  {
   "cell_type": "code",
   "execution_count": 4,
   "metadata": {},
   "outputs": [
    {
     "data": {
      "text/plain": [
       "0       186,0,0,0,0,0,0,0,0,0,0,0,0,0,0,0,0,0,0,0,0,0,...\n",
       "1       186,0,0,0,0,0,0,0,0,0,0,0,0,0,0,0,0,0,0,0,0,0,...\n",
       "2       186,0,0,0,0,0,0,0,0,0,0,0,0,0,0,0,0,0,0,0,0,0,...\n",
       "3       186,0,0,0,0,0,0,0,0,0,0,0,0,0,0,0,0,0,0,0,0,0,...\n",
       "4       186,0,0,0,0,0,0,0,0,0,0,0,0,0,0,0,0,0,0,0,0,0,...\n",
       "                              ...                        \n",
       "1375    5,207,198,147,109,82,80,57,84,200,88,174,193,9...\n",
       "1376    5,207,198,147,109,82,80,57,84,200,88,174,193,9...\n",
       "1377    5,207,198,147,109,82,80,57,84,200,88,174,193,9...\n",
       "1378    5,207,198,147,109,82,80,57,84,200,88,174,193,9...\n",
       "1379    5,207,198,147,109,82,80,57,84,200,88,174,193,9...\n",
       "Name: hist_movie_id, Length: 1380, dtype: object"
      ]
     },
     "execution_count": 4,
     "metadata": {},
     "output_type": "execute_result"
    }
   ],
   "source": [
    "samples_data['hist_movie_id']"
   ]
  },
  {
   "cell_type": "code",
   "execution_count": 11,
   "metadata": {},
   "outputs": [
    {
     "data": {
      "text/plain": [
       "'\\n本示例中包含：7个特征。\\n\\nuser端特征有5个，分别为[\"user_id\", \"gender\", \"age\", \"hist_movie_id\", \"hist_len\"]；\\nuser_id 为 用户ID特征，离散特征，从1-3表示；\\ngender 为 用户性别特征，离散特征，从1-2表示；\\nage 为 用户年龄特征，离散特征，从1-3表示；\\nhist_movie_id 为 用户观看的movie序列特征，根据观看的时间倒排，即最新观看的movieID排在前面；\\nhist_len 为 用户观看的movie序列长度特征，连续特征；\\nmovie端特征有2个，为 [\"movie_id\", \"movie_type_id\"]；\\n\\nmovie_id 为 movieID特征，离散特征，从1-208表示；\\nmovie_type_id 为 movie类型ID特征，离散特征，从1-9表示；\\n'"
      ]
     },
     "execution_count": 11,
     "metadata": {},
     "output_type": "execute_result"
    }
   ],
   "source": [
    "\"\"\"\n",
    "本示例中包含：7个特征。\n",
    "\n",
    "user端特征有5个，分别为[\"user_id\", \"gender\", \"age\", \"hist_movie_id\", \"hist_len\"]；\n",
    "user_id 为 用户ID特征，离散特征，从1-3表示；\n",
    "gender 为 用户性别特征，离散特征，从1-2表示；\n",
    "age 为 用户年龄特征，离散特征，从1-3表示；\n",
    "hist_movie_id 为 用户观看的movie序列特征，根据观看的时间倒排，即最新观看的movieID排在前面；\n",
    "hist_len 为 用户观看的movie序列长度特征，连续特征；\n",
    "movie端特征有2个，为 [\"movie_id\", \"movie_type_id\"]；\n",
    "\n",
    "movie_id 为 movieID特征，离散特征，从1-208表示；\n",
    "movie_type_id 为 movie类型ID特征，离散特征，从1-9表示；\n",
    "\"\"\""
   ]
  },
  {
   "cell_type": "code",
   "execution_count": 12,
   "metadata": {},
   "outputs": [],
   "source": [
    "samples_data = shuffle(samples_data)\n",
    "\n",
    "X = samples_data[[\"user_id\", \"gender\", \"age\", \"hist_movie_id\", \"hist_len\", \"movie_id\", \"movie_type_id\"]]\n",
    "y = samples_data[\"label\"]"
   ]
  },
  {
   "cell_type": "code",
   "execution_count": 13,
   "metadata": {},
   "outputs": [],
   "source": [
    "train_model_input = {\"user_id\": np.array(X[\"user_id\"]), \\\n",
    "           \"gender\": np.array(X[\"gender\"]), \\\n",
    "           \"age\": np.array(X[\"age\"]), \\\n",
    "           \"hist_movie_id\": np.array([[int(i) for i in l.split(',')] for l in X[\"hist_movie_id\"]]), \\\n",
    "           \"hist_len\": np.array(X[\"hist_len\"]), \\\n",
    "           \"movie_id\": np.array(X[\"movie_id\"]), \\\n",
    "           \"movie_type_id\": np.array(X[\"movie_type_id\"])}\n",
    "\n",
    "train_label = np.array(y)"
   ]
  },
  {
   "cell_type": "code",
   "execution_count": 18,
   "metadata": {},
   "outputs": [
    {
     "ename": "ImportError",
     "evalue": "cannot import name 'VarLenSparseFeat' from 'deepctr.inputs' (D:\\ProgramData\\Anaconda3\\lib\\site-packages\\deepctr\\inputs.py)",
     "output_type": "error",
     "traceback": [
      "\u001b[1;31m---------------------------------------------------------------------------\u001b[0m",
      "\u001b[1;31mImportError\u001b[0m                               Traceback (most recent call last)",
      "\u001b[1;32m<ipython-input-18-438a3bd03663>\u001b[0m in \u001b[0;36m<module>\u001b[1;34m\u001b[0m\n\u001b[0;32m      1\u001b[0m \u001b[1;32mimport\u001b[0m \u001b[0mpandas\u001b[0m \u001b[1;32mas\u001b[0m \u001b[0mpd\u001b[0m\u001b[1;33m\u001b[0m\u001b[1;33m\u001b[0m\u001b[0m\n\u001b[1;32m----> 2\u001b[1;33m \u001b[1;32mfrom\u001b[0m \u001b[0mdeepctr\u001b[0m\u001b[1;33m.\u001b[0m\u001b[0minputs\u001b[0m \u001b[1;32mimport\u001b[0m \u001b[0mVarLenSparseFeat\u001b[0m\u001b[1;33m\u001b[0m\u001b[1;33m\u001b[0m\u001b[0m\n\u001b[0m\u001b[0;32m      3\u001b[0m \u001b[1;32mfrom\u001b[0m \u001b[0msklearn\u001b[0m\u001b[1;33m.\u001b[0m\u001b[0mpreprocessing\u001b[0m \u001b[1;32mimport\u001b[0m \u001b[0mLabelEncoder\u001b[0m\u001b[1;33m\u001b[0m\u001b[1;33m\u001b[0m\u001b[0m\n\u001b[0;32m      4\u001b[0m \u001b[1;32mfrom\u001b[0m \u001b[0mtensorflow\u001b[0m\u001b[1;33m.\u001b[0m\u001b[0mpython\u001b[0m\u001b[1;33m.\u001b[0m\u001b[0mkeras\u001b[0m\u001b[1;33m.\u001b[0m\u001b[0mmodels\u001b[0m \u001b[1;32mimport\u001b[0m \u001b[0mModel\u001b[0m\u001b[1;33m\u001b[0m\u001b[1;33m\u001b[0m\u001b[0m\n\u001b[0;32m      5\u001b[0m \u001b[1;32mfrom\u001b[0m \u001b[0mdeepmatch\u001b[0m\u001b[1;33m.\u001b[0m\u001b[0mmodels\u001b[0m \u001b[1;32mimport\u001b[0m \u001b[1;33m*\u001b[0m\u001b[1;33m\u001b[0m\u001b[1;33m\u001b[0m\u001b[0m\n",
      "\u001b[1;31mImportError\u001b[0m: cannot import name 'VarLenSparseFeat' from 'deepctr.inputs' (D:\\ProgramData\\Anaconda3\\lib\\site-packages\\deepctr\\inputs.py)"
     ]
    }
   ],
   "source": [
    "import pandas as pd\n",
    "from deepctr.inputs import VarLenSparseFeat\n",
    "from sklearn.preprocessing import LabelEncoder\n",
    "from tensorflow.python.keras.models import Model\n",
    "from deepmatch.models import *\n",
    "\n",
    "embedding_dim = 32\n",
    "SEQ_LEN = 50\n",
    "user_feature_columns = [SparseFeat('user_id', max(samples_data[\"user_id\"])+1, embedding_dim),\n",
    "                        SparseFeat(\"gender\", max(samples_data[\"gender\"])+1, embedding_dim),\n",
    "                        SparseFeat(\"age\", max(samples_data[\"age\"])+1, embedding_dim),\n",
    "                        VarLenSparseFeat(SparseFeat('hist_movie_id', max(samples_data[\"movie_id\"])+1, embedding_dim,\n",
    "                                                    embedding_name=\"movie_id\"), SEQ_LEN, 'mean', 'hist_len'),\n",
    "                        ]\n",
    "\n",
    "item_feature_columns = [SparseFeat('movie_id', max(samples_data[\"movie_id\"])+1, embedding_dim), \n",
    "                       SparseFeat('movie_type_id', max(samples_data[\"movie_type_id\"])+1, embedding_dim)]"
   ]
  },
  {
   "cell_type": "code",
   "execution_count": 15,
   "metadata": {},
   "outputs": [],
   "source": [
    "from deepctr import inputs"
   ]
  },
  {
   "cell_type": "code",
   "execution_count": 17,
   "metadata": {},
   "outputs": [
    {
     "ename": "AttributeError",
     "evalue": "module 'deepctr.inputs' has no attribute 'SparseFeat'",
     "output_type": "error",
     "traceback": [
      "\u001b[1;31m---------------------------------------------------------------------------\u001b[0m",
      "\u001b[1;31mAttributeError\u001b[0m                            Traceback (most recent call last)",
      "\u001b[1;32m<ipython-input-17-5003d56082af>\u001b[0m in \u001b[0;36m<module>\u001b[1;34m\u001b[0m\n\u001b[1;32m----> 1\u001b[1;33m \u001b[0minputs\u001b[0m\u001b[1;33m.\u001b[0m\u001b[0mSparseFeat\u001b[0m\u001b[1;33m\u001b[0m\u001b[1;33m\u001b[0m\u001b[0m\n\u001b[0m",
      "\u001b[1;31mAttributeError\u001b[0m: module 'deepctr.inputs' has no attribute 'SparseFeat'"
     ]
    }
   ],
   "source": [
    "inputs.SparseFeat"
   ]
  },
  {
   "cell_type": "code",
   "execution_count": null,
   "metadata": {},
   "outputs": [],
   "source": []
  }
 ],
 "metadata": {
  "kernelspec": {
   "display_name": "Python 3",
   "language": "python",
   "name": "python3"
  },
  "language_info": {
   "codemirror_mode": {
    "name": "ipython",
    "version": 3
   },
   "file_extension": ".py",
   "mimetype": "text/x-python",
   "name": "python",
   "nbconvert_exporter": "python",
   "pygments_lexer": "ipython3",
   "version": "3.8.5"
  }
 },
 "nbformat": 4,
 "nbformat_minor": 4
}
