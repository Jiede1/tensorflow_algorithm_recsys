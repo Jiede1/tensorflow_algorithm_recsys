{
 "cells": [
  {
   "cell_type": "code",
   "execution_count": 13,
   "metadata": {},
   "outputs": [
    {
     "name": "stdout",
     "output_type": "stream",
     "text": [
      "2.4.1\n",
      "sys.version_info(major=3, minor=8, micro=5, releaselevel='final', serial=0)\n",
      "matplotlib 3.3.2\n",
      "numpy 1.19.5\n",
      "pandas 1.1.3\n",
      "sklearn 0.24.0\n",
      "tensorflow 2.4.1\n",
      "tensorflow.keras 2.4.0\n"
     ]
    }
   ],
   "source": [
    "import matplotlib as mpl # python 绘图库\n",
    "import matplotlib.pyplot as plt # python 2D 绘图库\n",
    "import numpy as np # 数学库，矩阵数组等\n",
    "import sklearn\n",
    "import pandas as pd # 大数据处理模块\n",
    "import os # 处理文件和目录\n",
    "import sys # 解释器使用或维护一些变量的访问，以及与解释器强交互的函数\n",
    "import time # 格式化日期与时间\n",
    "import tensorflow as tf\n",
    " \n",
    "from tensorflow import keras\n",
    " \n",
    "#显示重要库的对应版本\n",
    "print(tf.__version__)\n",
    "print(sys.version_info)\n",
    "for module in mpl,np,pd,sklearn,tf,keras:\n",
    "    print(module.__name__,module.__version__)"
   ]
  },
  {
   "cell_type": "code",
   "execution_count": 14,
   "metadata": {},
   "outputs": [
    {
     "name": "stdout",
     "output_type": "stream",
     "text": [
      ".. _california_housing_dataset:\n",
      "\n",
      "California Housing dataset\n",
      "--------------------------\n",
      "\n",
      "**Data Set Characteristics:**\n",
      "\n",
      "    :Number of Instances: 20640\n",
      "\n",
      "    :Number of Attributes: 8 numeric, predictive attributes and the target\n",
      "\n",
      "    :Attribute Information:\n",
      "        - MedInc        median income in block\n",
      "        - HouseAge      median house age in block\n",
      "        - AveRooms      average number of rooms\n",
      "        - AveBedrms     average number of bedrooms\n",
      "        - Population    block population\n",
      "        - AveOccup      average house occupancy\n",
      "        - Latitude      house block latitude\n",
      "        - Longitude     house block longitude\n",
      "\n",
      "    :Missing Attribute Values: None\n",
      "\n",
      "This dataset was obtained from the StatLib repository.\n",
      "http://lib.stat.cmu.edu/datasets/\n",
      "\n",
      "The target variable is the median house value for California districts.\n",
      "\n",
      "This dataset was derived from the 1990 U.S. census, using one row per census\n",
      "block group. A block group is the smallest geographical unit for which the U.S.\n",
      "Census Bureau publishes sample data (a block group typically has a population\n",
      "of 600 to 3,000 people).\n",
      "\n",
      "It can be downloaded/loaded using the\n",
      ":func:`sklearn.datasets.fetch_california_housing` function.\n",
      "\n",
      ".. topic:: References\n",
      "\n",
      "    - Pace, R. Kelley and Ronald Barry, Sparse Spatial Autoregressions,\n",
      "      Statistics and Probability Letters, 33 (1997) 291-297\n",
      "\n",
      "(20640, 8)\n",
      "(20640,)\n"
     ]
    }
   ],
   "source": [
    "from sklearn.datasets import fetch_california_housing\n",
    "# 引入加州房价预测数据\n",
    "housing = fetch_california_housing()\n",
    "# 显示数据的说明，数据的矩阵形状，标签的形状\n",
    "print(housing.DESCR)\n",
    "print(housing.data.shape)\n",
    "print(housing.target.shape)"
   ]
  },
  {
   "cell_type": "code",
   "execution_count": 40,
   "metadata": {},
   "outputs": [
    {
     "name": "stdout",
     "output_type": "stream",
     "text": [
      "(11610, 8) (11610,)\n",
      "(3870, 8) (3870,)\n",
      "(5160, 8) (5160,)\n"
     ]
    }
   ],
   "source": [
    "# 引入机器学习数据集分割库\n",
    "from sklearn.model_selection import train_test_split\n",
    "# 引入预测房价的 data，target，并切分数据为 训练集（训练集中又该分为训练集和验证集） 与 测试集，\n",
    "# x 为训练集,y 为测试集，这里将数据切割为 4 个部分，训练集的特征，验证集的特征，训练集的标签，验证集的标签\n",
    "# 没有填写训练集与验证的分割比例的话，默认为 0.75\n",
    "\n",
    "x_train_all,x_test,y_train_all,y_test = train_test_split(\n",
    "    housing.data,housing.target,random_state=7)\n",
    " \n",
    "# 将大训练集分割为小训练集与验证集\n",
    "x_train,x_valid,y_train,y_valid =train_test_split(\n",
    "    x_train_all,y_train_all,random_state=11)\n",
    " \n",
    "# 显示训练集，验证集，测试集的形状\n",
    "print(x_train.shape,y_train.shape)\n",
    "print(x_valid.shape,y_valid.shape)\n",
    "print(x_test.shape,y_test.shape)"
   ]
  },
  {
   "cell_type": "code",
   "execution_count": 41,
   "metadata": {},
   "outputs": [
    {
     "data": {
      "text/plain": [
       "array([3.226, 1.514, 1.598, ..., 1.5  , 2.636, 1.925])"
      ]
     },
     "execution_count": 41,
     "metadata": {},
     "output_type": "execute_result"
    }
   ],
   "source": [
    "y_train"
   ]
  },
  {
   "cell_type": "code",
   "execution_count": 42,
   "metadata": {},
   "outputs": [],
   "source": [
    "# 引入标准化库 ：计算训练集的平均值和标准差，以便测试数据集使用相同的变换\n",
    "from sklearn import preprocessing\n",
    " \n",
    "# 引入标准化函数\n",
    "scaler = preprocessing.StandardScaler()\n",
    "# 训练集，验证集，测试集标准化\n",
    "x_train_scaled = scaler.fit_transform(x_train)\n",
    "x_valid_scaled = scaler.transform(x_valid)\n",
    "x_test_scaled = scaler.transform(x_test)"
   ]
  },
  {
   "cell_type": "code",
   "execution_count": 43,
   "metadata": {},
   "outputs": [
    {
     "data": {
      "text/plain": [
       "array([[-0.96598484,  0.19206119, -1.04889736, ...,  0.01281729,\n",
       "        -0.73906413,  0.63164745],\n",
       "       [ 0.24771283,  0.11196095, -0.15638057, ..., -0.0636657 ,\n",
       "        -0.85570637,  0.63164745],\n",
       "       [-0.08829461,  1.87416616, -0.23201227, ..., -0.1387746 ,\n",
       "         1.0105695 , -1.33078543],\n",
       "       ...,\n",
       "       [-0.39025373,  0.91296332, -0.26692829, ..., -0.01752361,\n",
       "        -0.74839551,  0.72152988],\n",
       "       [-0.93950281,  1.23336426, -0.96485108, ...,  0.18553096,\n",
       "         0.58599173, -1.09109897],\n",
       "       [ 0.94551706,  0.75276284,  0.23183458, ..., -0.04272383,\n",
       "        -0.71106999,  0.74150375]])"
      ]
     },
     "execution_count": 43,
     "metadata": {},
     "output_type": "execute_result"
    }
   ],
   "source": [
    "x_test_scaled"
   ]
  },
  {
   "cell_type": "code",
   "execution_count": 53,
   "metadata": {},
   "outputs": [],
   "source": [
    "# 实现多输入 这里使用函数式的方法\n",
    "# 我们假设我们将前 5 个 feature 输入 wide 模型，后 6 个 feature 输入 deep 模型，一共 8 个 feature ，也就是说， wide and deep 有交集部分\n",
    "input_wide = keras.layers.Input(shape=[5])\n",
    "input_deep = keras.layers.Input(shape=[6])\n",
    "# deep model 有两个隐藏层\n",
    "hidden1 = keras.layers.Dense(30,activation='relu')(input_deep)\n",
    "hidden2 = keras.layers.Dense(15,activation='relu')(hidden1)\n",
    "# 合并两个模型的输出\n",
    "concat = keras.layers.concatenate([input_wide,hidden2])\n",
    "output =keras.layers.Dense(1)(concat)\n",
    "# 模型的输入为两个模型的输入，输出只有一个\n",
    "model = keras.models.Model(inputs = [input_wide,input_deep],\n",
    "                            outputs = [output])"
   ]
  },
  {
   "cell_type": "code",
   "execution_count": 54,
   "metadata": {},
   "outputs": [
    {
     "name": "stdout",
     "output_type": "stream",
     "text": [
      "Model: \"model_3\"\n",
      "__________________________________________________________________________________________________\n",
      "Layer (type)                    Output Shape         Param #     Connected to                     \n",
      "==================================================================================================\n",
      "input_7 (InputLayer)            [(None, 6)]          0                                            \n",
      "__________________________________________________________________________________________________\n",
      "dense_9 (Dense)                 (None, 30)           210         input_7[0][0]                    \n",
      "__________________________________________________________________________________________________\n",
      "input_6 (InputLayer)            [(None, 5)]          0                                            \n",
      "__________________________________________________________________________________________________\n",
      "dense_10 (Dense)                (None, 15)           465         dense_9[0][0]                    \n",
      "__________________________________________________________________________________________________\n",
      "concatenate_3 (Concatenate)     (None, 20)           0           input_6[0][0]                    \n",
      "                                                                 dense_10[0][0]                   \n",
      "__________________________________________________________________________________________________\n",
      "dense_11 (Dense)                (None, 1)            21          concatenate_3[0][0]              \n",
      "==================================================================================================\n",
      "Total params: 696\n",
      "Trainable params: 696\n",
      "Non-trainable params: 0\n",
      "__________________________________________________________________________________________________\n"
     ]
    }
   ],
   "source": [
    "model.summary()"
   ]
  },
  {
   "cell_type": "code",
   "execution_count": 55,
   "metadata": {},
   "outputs": [],
   "source": [
    "model.compile(loss=\"mean_squared_error\",optimizer=\"Ftrl\")"
   ]
  },
  {
   "cell_type": "code",
   "execution_count": 56,
   "metadata": {},
   "outputs": [],
   "source": [
    "callbacks = [keras.callbacks.EarlyStopping(\n",
    "                patience= 5,min_delta=1e-2)]"
   ]
  },
  {
   "cell_type": "code",
   "execution_count": 57,
   "metadata": {},
   "outputs": [],
   "source": [
    "# wide 模型的输入，前 5 个特征的数据集 ,deep 模型输入后 6 个\n",
    "x_train_scaled_wide = x_train_scaled[:,:5]\n",
    "x_train_scaled_deep = x_train_scaled[:,2:]\n",
    "# 验证集和测试集同上\n",
    "x_valid_scaled_wide = x_valid_scaled[:,:5]\n",
    "x_valid_scaled_deep = x_valid_scaled[:,2:]\n",
    "x_test_scaled_wide = x_test_scaled[:,:5]\n",
    "x_test_scaled_deep = x_test_scaled[:,2:]"
   ]
  },
  {
   "cell_type": "code",
   "execution_count": 58,
   "metadata": {},
   "outputs": [
    {
     "name": "stdout",
     "output_type": "stream",
     "text": [
      "Epoch 1/200\n",
      "363/363 [==============================] - 5s 7ms/step - loss: 5.9362 - val_loss: 5.8513\n",
      "Epoch 2/200\n",
      "363/363 [==============================] - 2s 6ms/step - loss: 5.3600 - val_loss: 5.2879\n",
      "Epoch 3/200\n",
      "363/363 [==============================] - 3s 7ms/step - loss: 4.8810 - val_loss: 4.6622\n",
      "Epoch 4/200\n",
      "363/363 [==============================] - 2s 6ms/step - loss: 4.2539 - val_loss: 4.0506\n",
      "Epoch 5/200\n",
      "363/363 [==============================] - 2s 6ms/step - loss: 3.6729 - val_loss: 3.5066\n",
      "Epoch 6/200\n",
      "363/363 [==============================] - 3s 7ms/step - loss: 3.1336 - val_loss: 3.0540\n",
      "Epoch 7/200\n",
      "363/363 [==============================] - 2s 6ms/step - loss: 2.7738 - val_loss: 2.6968\n",
      "Epoch 8/200\n",
      "363/363 [==============================] - 2s 6ms/step - loss: 2.4800 - val_loss: 2.4255\n",
      "Epoch 9/200\n",
      "363/363 [==============================] - 2s 6ms/step - loss: 2.2515 - val_loss: 2.2250\n",
      "Epoch 10/200\n",
      "363/363 [==============================] - 2s 6ms/step - loss: 2.0060 - val_loss: 2.0781\n",
      "Epoch 11/200\n",
      "363/363 [==============================] - 2s 6ms/step - loss: 1.8359 - val_loss: 1.9710\n",
      "Epoch 12/200\n",
      "363/363 [==============================] - 2s 6ms/step - loss: 1.7691 - val_loss: 1.8908\n",
      "Epoch 13/200\n",
      "363/363 [==============================] - 2s 7ms/step - loss: 1.7653 - val_loss: 1.8291\n",
      "Epoch 14/200\n",
      "363/363 [==============================] - 2s 6ms/step - loss: 1.7005 - val_loss: 1.7797\n",
      "Epoch 15/200\n",
      "363/363 [==============================] - 2s 6ms/step - loss: 1.6258 - val_loss: 1.7381\n",
      "Epoch 16/200\n",
      "363/363 [==============================] - 2s 6ms/step - loss: 1.5796 - val_loss: 1.7019\n",
      "Epoch 17/200\n",
      "363/363 [==============================] - 2s 6ms/step - loss: 1.5872 - val_loss: 1.6694\n",
      "Epoch 18/200\n",
      "363/363 [==============================] - 2s 6ms/step - loss: 1.5817 - val_loss: 1.6392\n",
      "Epoch 19/200\n",
      "363/363 [==============================] - 2s 6ms/step - loss: 1.4812 - val_loss: 1.6116\n",
      "Epoch 20/200\n",
      "363/363 [==============================] - 2s 6ms/step - loss: 1.4971 - val_loss: 1.5857\n",
      "Epoch 21/200\n",
      "363/363 [==============================] - 3s 9ms/step - loss: 1.4693 - val_loss: 1.5614\n",
      "Epoch 22/200\n",
      "363/363 [==============================] - 3s 8ms/step - loss: 1.4362 - val_loss: 1.5384\n",
      "Epoch 23/200\n",
      "363/363 [==============================] - 2s 6ms/step - loss: 1.4096 - val_loss: 1.5165\n",
      "Epoch 24/200\n",
      "363/363 [==============================] - 2s 6ms/step - loss: 1.4524 - val_loss: 1.4956\n",
      "Epoch 25/200\n",
      "363/363 [==============================] - 2s 6ms/step - loss: 1.3958 - val_loss: 1.4756\n",
      "Epoch 26/200\n",
      "363/363 [==============================] - 2s 6ms/step - loss: 1.3456 - val_loss: 1.4563\n",
      "Epoch 27/200\n",
      "363/363 [==============================] - 2s 7ms/step - loss: 1.3384 - val_loss: 1.4378\n",
      "Epoch 28/200\n",
      "363/363 [==============================] - 2s 7ms/step - loss: 1.3470 - val_loss: 1.4200\n",
      "Epoch 29/200\n",
      "363/363 [==============================] - 2s 6ms/step - loss: 1.3075 - val_loss: 1.4028\n",
      "Epoch 30/200\n",
      "363/363 [==============================] - 3s 7ms/step - loss: 1.2942 - val_loss: 1.3862\n",
      "Epoch 31/200\n",
      "363/363 [==============================] - 2s 6ms/step - loss: 1.2460 - val_loss: 1.3701\n",
      "Epoch 32/200\n",
      "363/363 [==============================] - 2s 6ms/step - loss: 1.3083 - val_loss: 1.3545\n",
      "Epoch 33/200\n",
      "363/363 [==============================] - 2s 6ms/step - loss: 1.2673 - val_loss: 1.3393\n",
      "Epoch 34/200\n",
      "363/363 [==============================] - 2s 7ms/step - loss: 1.2488 - val_loss: 1.3246\n",
      "Epoch 35/200\n",
      "363/363 [==============================] - 3s 7ms/step - loss: 1.2727 - val_loss: 1.3104\n",
      "Epoch 36/200\n",
      "363/363 [==============================] - 2s 6ms/step - loss: 1.2071 - val_loss: 1.2965\n",
      "Epoch 37/200\n",
      "363/363 [==============================] - 2s 6ms/step - loss: 1.2142 - val_loss: 1.2829\n",
      "Epoch 38/200\n",
      "363/363 [==============================] - 2s 6ms/step - loss: 1.1949 - val_loss: 1.2698\n",
      "Epoch 39/200\n",
      "363/363 [==============================] - 2s 6ms/step - loss: 1.1938 - val_loss: 1.2570\n",
      "Epoch 40/200\n",
      "363/363 [==============================] - 2s 6ms/step - loss: 1.1474 - val_loss: 1.2446\n",
      "Epoch 41/200\n",
      "363/363 [==============================] - 3s 8ms/step - loss: 1.1819 - val_loss: 1.2325\n",
      "Epoch 42/200\n",
      "363/363 [==============================] - 3s 8ms/step - loss: 1.1261 - val_loss: 1.2206\n",
      "Epoch 43/200\n",
      "363/363 [==============================] - 3s 7ms/step - loss: 1.1097 - val_loss: 1.2091\n",
      "Epoch 44/200\n",
      "363/363 [==============================] - 2s 7ms/step - loss: 1.1292 - val_loss: 1.1979\n",
      "Epoch 45/200\n",
      "363/363 [==============================] - 2s 7ms/step - loss: 1.1158 - val_loss: 1.1869\n",
      "Epoch 46/200\n",
      "363/363 [==============================] - 3s 7ms/step - loss: 1.0998 - val_loss: 1.1762\n",
      "Epoch 47/200\n",
      "363/363 [==============================] - 3s 8ms/step - loss: 1.1154 - val_loss: 1.1658\n",
      "Epoch 48/200\n",
      "363/363 [==============================] - 3s 9ms/step - loss: 1.1026 - val_loss: 1.1557\n",
      "Epoch 49/200\n",
      "363/363 [==============================] - 3s 8ms/step - loss: 1.0654 - val_loss: 1.1459\n",
      "Epoch 50/200\n",
      "363/363 [==============================] - 2s 6ms/step - loss: 1.1001 - val_loss: 1.1363\n",
      "Epoch 51/200\n",
      "363/363 [==============================] - 2s 6ms/step - loss: 1.0710 - val_loss: 1.1269\n",
      "Epoch 52/200\n",
      "363/363 [==============================] - 2s 6ms/step - loss: 1.0760 - val_loss: 1.1178\n",
      "Epoch 53/200\n",
      "363/363 [==============================] - 2s 6ms/step - loss: 1.0625 - val_loss: 1.1089\n",
      "Epoch 54/200\n",
      "363/363 [==============================] - 3s 7ms/step - loss: 1.0430 - val_loss: 1.1002\n",
      "Epoch 55/200\n",
      "363/363 [==============================] - 3s 8ms/step - loss: 1.0410 - val_loss: 1.0917\n",
      "Epoch 56/200\n",
      "363/363 [==============================] - 2s 6ms/step - loss: 1.0391 - val_loss: 1.0835\n",
      "Epoch 57/200\n",
      "363/363 [==============================] - 2s 6ms/step - loss: 1.0119 - val_loss: 1.0754\n",
      "Epoch 58/200\n",
      "363/363 [==============================] - 2s 6ms/step - loss: 1.0180 - val_loss: 1.0676\n",
      "Epoch 59/200\n",
      "363/363 [==============================] - 2s 6ms/step - loss: 1.0009 - val_loss: 1.0599\n",
      "Epoch 60/200\n",
      "363/363 [==============================] - 3s 7ms/step - loss: 1.0005 - val_loss: 1.0524\n",
      "Epoch 61/200\n",
      "363/363 [==============================] - 3s 8ms/step - loss: 0.9618 - val_loss: 1.0450\n",
      "Epoch 62/200\n",
      "363/363 [==============================] - 2s 6ms/step - loss: 1.0107 - val_loss: 1.0379\n",
      "Epoch 63/200\n",
      "363/363 [==============================] - 2s 6ms/step - loss: 0.9559 - val_loss: 1.0310\n",
      "Epoch 64/200\n",
      "363/363 [==============================] - 2s 6ms/step - loss: 0.9722 - val_loss: 1.0241\n",
      "Epoch 65/200\n",
      "363/363 [==============================] - 2s 6ms/step - loss: 0.9550 - val_loss: 1.0175\n",
      "Epoch 66/200\n",
      "363/363 [==============================] - 2s 6ms/step - loss: 0.9551 - val_loss: 1.0111\n",
      "Epoch 67/200\n",
      "363/363 [==============================] - 3s 8ms/step - loss: 0.9560 - val_loss: 1.0048\n",
      "Epoch 68/200\n",
      "363/363 [==============================] - 3s 7ms/step - loss: 0.9427 - val_loss: 0.9986\n",
      "Epoch 69/200\n",
      "363/363 [==============================] - 2s 6ms/step - loss: 0.9479 - val_loss: 0.9926\n",
      "Epoch 70/200\n",
      "363/363 [==============================] - 2s 6ms/step - loss: 0.9615 - val_loss: 0.9867\n",
      "Epoch 71/200\n",
      "363/363 [==============================] - 2s 6ms/step - loss: 0.9195 - val_loss: 0.9810\n",
      "Epoch 72/200\n",
      "363/363 [==============================] - 2s 6ms/step - loss: 0.8881 - val_loss: 0.9753\n",
      "Epoch 73/200\n",
      "363/363 [==============================] - 2s 6ms/step - loss: 0.9100 - val_loss: 0.9698\n",
      "Epoch 74/200\n",
      "363/363 [==============================] - 3s 8ms/step - loss: 0.9136 - val_loss: 0.9645\n",
      "Epoch 75/200\n",
      "363/363 [==============================] - 3s 7ms/step - loss: 0.9086 - val_loss: 0.9592\n",
      "Epoch 76/200\n",
      "363/363 [==============================] - 2s 6ms/step - loss: 0.8741 - val_loss: 0.9541\n",
      "Epoch 77/200\n",
      "363/363 [==============================] - 2s 7ms/step - loss: 0.9066 - val_loss: 0.9491\n",
      "Epoch 78/200\n",
      "363/363 [==============================] - 2s 6ms/step - loss: 0.8769 - val_loss: 0.9442\n",
      "Epoch 79/200\n",
      "363/363 [==============================] - 2s 7ms/step - loss: 0.8617 - val_loss: 0.9393\n",
      "Epoch 80/200\n",
      "363/363 [==============================] - 3s 7ms/step - loss: 0.8561 - val_loss: 0.9347\n",
      "Epoch 81/200\n"
     ]
    },
    {
     "name": "stdout",
     "output_type": "stream",
     "text": [
      "363/363 [==============================] - 3s 7ms/step - loss: 0.8638 - val_loss: 0.9300\n",
      "Epoch 82/200\n",
      "363/363 [==============================] - 2s 6ms/step - loss: 0.8702 - val_loss: 0.9255\n",
      "Epoch 83/200\n",
      "363/363 [==============================] - 2s 5ms/step - loss: 0.8633 - val_loss: 0.9211\n",
      "Epoch 84/200\n",
      "363/363 [==============================] - 2s 5ms/step - loss: 0.8743 - val_loss: 0.9168\n",
      "Epoch 85/200\n",
      "363/363 [==============================] - 2s 5ms/step - loss: 0.8631 - val_loss: 0.9126\n",
      "Epoch 86/200\n",
      "363/363 [==============================] - 2s 5ms/step - loss: 0.8664 - val_loss: 0.9084\n",
      "Epoch 87/200\n",
      "363/363 [==============================] - 2s 5ms/step - loss: 0.8489 - val_loss: 0.9044\n",
      "Epoch 88/200\n",
      "363/363 [==============================] - 2s 6ms/step - loss: 0.8362 - val_loss: 0.9004\n",
      "Epoch 89/200\n",
      "363/363 [==============================] - 2s 6ms/step - loss: 0.8622 - val_loss: 0.8965\n",
      "Epoch 90/200\n",
      "363/363 [==============================] - 2s 5ms/step - loss: 0.8603 - val_loss: 0.8927\n",
      "Epoch 91/200\n",
      "363/363 [==============================] - 2s 5ms/step - loss: 0.8375 - val_loss: 0.8890\n",
      "Epoch 92/200\n",
      "363/363 [==============================] - 2s 5ms/step - loss: 0.8418 - val_loss: 0.8854\n",
      "Epoch 93/200\n",
      "363/363 [==============================] - 2s 6ms/step - loss: 0.8206 - val_loss: 0.8818\n",
      "Epoch 94/200\n",
      "363/363 [==============================] - 2s 5ms/step - loss: 0.8158 - val_loss: 0.8783\n",
      "Epoch 95/200\n",
      "363/363 [==============================] - 2s 5ms/step - loss: 0.8204 - val_loss: 0.8748\n",
      "Epoch 96/200\n",
      "363/363 [==============================] - 2s 6ms/step - loss: 0.8451 - val_loss: 0.8715\n",
      "Epoch 97/200\n",
      "363/363 [==============================] - 2s 6ms/step - loss: 0.8218 - val_loss: 0.8682\n",
      "Epoch 98/200\n",
      "363/363 [==============================] - 2s 5ms/step - loss: 0.8079 - val_loss: 0.8649\n",
      "Epoch 99/200\n",
      "363/363 [==============================] - 2s 5ms/step - loss: 0.8029 - val_loss: 0.8617\n",
      "Epoch 100/200\n",
      "363/363 [==============================] - 2s 5ms/step - loss: 0.7994 - val_loss: 0.8586\n",
      "Epoch 101/200\n",
      "363/363 [==============================] - 2s 5ms/step - loss: 0.8260 - val_loss: 0.8556\n",
      "Epoch 102/200\n",
      "363/363 [==============================] - 2s 5ms/step - loss: 0.8167 - val_loss: 0.8526\n",
      "Epoch 103/200\n",
      "363/363 [==============================] - 2s 5ms/step - loss: 0.8168 - val_loss: 0.8497\n",
      "Epoch 104/200\n",
      "363/363 [==============================] - 2s 6ms/step - loss: 0.8148 - val_loss: 0.8468\n",
      "Epoch 105/200\n",
      "363/363 [==============================] - 2s 6ms/step - loss: 0.8057 - val_loss: 0.8439\n",
      "Epoch 106/200\n",
      "363/363 [==============================] - 2s 5ms/step - loss: 0.8029 - val_loss: 0.8412\n",
      "Epoch 107/200\n",
      "363/363 [==============================] - 2s 5ms/step - loss: 0.8108 - val_loss: 0.8384\n",
      "Epoch 108/200\n",
      "363/363 [==============================] - 2s 5ms/step - loss: 0.7861 - val_loss: 0.8358\n",
      "Epoch 109/200\n",
      "363/363 [==============================] - 2s 5ms/step - loss: 0.7807 - val_loss: 0.8331\n",
      "Epoch 110/200\n",
      "363/363 [==============================] - 2s 5ms/step - loss: 0.7968 - val_loss: 0.8305\n",
      "Epoch 111/200\n",
      "363/363 [==============================] - 2s 5ms/step - loss: 0.7934 - val_loss: 0.8280\n",
      "Epoch 112/200\n",
      "363/363 [==============================] - 3s 7ms/step - loss: 0.7886 - val_loss: 0.8255\n",
      "Epoch 113/200\n",
      "363/363 [==============================] - 3s 7ms/step - loss: 0.7930 - val_loss: 0.8230\n",
      "Epoch 114/200\n",
      "363/363 [==============================] - 2s 5ms/step - loss: 0.7675 - val_loss: 0.8206\n",
      "Epoch 115/200\n",
      "363/363 [==============================] - 2s 5ms/step - loss: 0.7658 - val_loss: 0.8182\n",
      "Epoch 116/200\n",
      "363/363 [==============================] - 2s 5ms/step - loss: 0.7688 - val_loss: 0.8159\n",
      "Epoch 117/200\n",
      "363/363 [==============================] - 2s 5ms/step - loss: 0.7650 - val_loss: 0.8135\n",
      "Epoch 118/200\n",
      "363/363 [==============================] - 2s 5ms/step - loss: 0.7872 - val_loss: 0.8113\n",
      "Epoch 119/200\n",
      "363/363 [==============================] - 2s 5ms/step - loss: 0.7546 - val_loss: 0.8091\n",
      "Epoch 120/200\n",
      "363/363 [==============================] - 2s 6ms/step - loss: 0.7880 - val_loss: 0.8069\n",
      "Epoch 121/200\n",
      "363/363 [==============================] - 2s 6ms/step - loss: 0.7445 - val_loss: 0.8047\n",
      "Epoch 122/200\n",
      "363/363 [==============================] - 2s 5ms/step - loss: 0.7645 - val_loss: 0.8026\n",
      "Epoch 123/200\n",
      "363/363 [==============================] - 2s 6ms/step - loss: 0.7561 - val_loss: 0.8006\n",
      "Epoch 124/200\n",
      "363/363 [==============================] - 2s 5ms/step - loss: 0.7566 - val_loss: 0.7985\n",
      "Epoch 125/200\n",
      "363/363 [==============================] - 2s 5ms/step - loss: 0.7534 - val_loss: 0.7965\n",
      "Epoch 126/200\n",
      "363/363 [==============================] - 2s 5ms/step - loss: 0.7693 - val_loss: 0.7945\n",
      "Epoch 127/200\n",
      "363/363 [==============================] - 2s 6ms/step - loss: 0.7532 - val_loss: 0.7925\n",
      "Epoch 128/200\n",
      "363/363 [==============================] - 2s 6ms/step - loss: 0.7524 - val_loss: 0.7906\n"
     ]
    }
   ],
   "source": [
    "history = model.fit([x_train_scaled_wide,x_train_scaled_deep],\n",
    "                    y_train,\n",
    "                    validation_data=(\n",
    "                                    [x_valid_scaled_wide,x_valid_scaled_deep],\n",
    "                                    y_valid),\n",
    "                    epochs = 200,\n",
    "                    callbacks = callbacks\n",
    "                    )"
   ]
  },
  {
   "cell_type": "code",
   "execution_count": 39,
   "metadata": {},
   "outputs": [
    {
     "data": {
      "text/plain": [
       "<tensorflow.python.keras.engine.functional.Functional at 0x57b20d0>"
      ]
     },
     "execution_count": 39,
     "metadata": {},
     "output_type": "execute_result"
    }
   ],
   "source": [
    "model"
   ]
  },
  {
   "cell_type": "code",
   "execution_count": 59,
   "metadata": {},
   "outputs": [
    {
     "data": {
      "image/png": "[encoded data removed]",
      "text/plain": [
       "<Figure size 576x360 with 1 Axes>"
      ]
     },
     "metadata": {
      "needs_background": "light"
     },
     "output_type": "display_data"
    }
   ],
   "source": [
    "# 设定图表展示函数，将模型训练的接受对象 history 输入到该函数中\n",
    "def plot_learning_curves(history):\n",
    "# 将 history 获取到的训练过程的参数变化的字典变为矩阵形状，并设定图的尺寸大小为 8 和 5\n",
    "    pd.DataFrame(history.history).plot(figsize=(8,5))\n",
    "# 显示网格\n",
    "    plt.grid(True)\n",
    "# 设置坐标范围 ，设定 y 为 0~1 之间\n",
    "    plt.gca().set_ylim(0,1)\n",
    "# 显示这张图\n",
    "    plt.show()\n",
    "plot_learning_curves(history)"
   ]
  },
  {
   "cell_type": "code",
   "execution_count": 60,
   "metadata": {},
   "outputs": [
    {
     "name": "stdout",
     "output_type": "stream",
     "text": [
      "162/162 [==============================] - 0s 711us/step - loss: 0.7535\n"
     ]
    },
    {
     "data": {
      "text/plain": [
       "0.7535200715065002"
      ]
     },
     "execution_count": 60,
     "metadata": {},
     "output_type": "execute_result"
    }
   ],
   "source": [
    "# 输入测试集的特征与标签\n",
    "model.evaluate([x_test_scaled_wide, x_test_scaled_deep],y_test)"
   ]
  },
  {
   "cell_type": "code",
   "execution_count": null,
   "metadata": {},
   "outputs": [],
   "source": []
  }
 ],
 "metadata": {
  "kernelspec": {
   "display_name": "Python 3",
   "language": "python",
   "name": "python3"
  },
  "language_info": {
   "codemirror_mode": {
    "name": "ipython",
    "version": 3
   },
   "file_extension": ".py",
   "mimetype": "text/x-python",
   "name": "python",
   "nbconvert_exporter": "python",
   "pygments_lexer": "ipython3",
   "version": "3.8.5"
  }
 },
 "nbformat": 4,
 "nbformat_minor": 4
}
