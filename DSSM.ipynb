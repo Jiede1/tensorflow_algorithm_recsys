{
 "cells": [
  {
   "cell_type": "code",
   "execution_count": 1,
   "metadata": {},
   "outputs": [
    {
     "name": "stdout",
     "output_type": "stream",
     "text": [
      "WARNING:tensorflow:From D:\\ProgramData\\Anaconda3\\lib\\site-packages\\tensorflow\\python\\compat\\v2_compat.py:96: disable_resource_variables (from tensorflow.python.ops.variable_scope) is deprecated and will be removed in a future version.\n",
      "Instructions for updating:\n",
      "non-resource variables are not supported in the long term\n"
     ]
    }
   ],
   "source": [
    "import tensorflow.compat.v1 as tf \n",
    "tf.disable_v2_behavior () "
   ]
  },
  {
   "cell_type": "code",
   "execution_count": 2,
   "metadata": {},
   "outputs": [
    {
     "name": "stdout",
     "output_type": "stream",
     "text": [
      "[[1 1]\n",
      " [2 2]]\n"
     ]
    }
   ],
   "source": [
    "st = tf.SparseTensor(values=[1, 2], indices=[[0, 0], [1, 1]], dense_shape=[2, 2])\n",
    "dt = tf.ones(shape=[2,2],dtype=tf.int32)\n",
    "result = tf.sparse_tensor_dense_matmul(st,dt)\n",
    "sess = tf.Session()\n",
    "with sess.as_default():\n",
    "    print(result.eval())\n"
   ]
  },
  {
   "cell_type": "code",
   "execution_count": 11,
   "metadata": {},
   "outputs": [
    {
     "data": {
      "text/plain": [
       "<tf.Tensor 'Softmax_4:0' shape=(1,) dtype=float32>"
      ]
     },
     "execution_count": 11,
     "metadata": {},
     "output_type": "execute_result"
    }
   ],
   "source": [
    "tf.nn.softmax([1.0])"
   ]
  },
  {
   "cell_type": "code",
   "execution_count": 14,
   "metadata": {},
   "outputs": [],
   "source": [
    "import numpy as np"
   ]
  },
  {
   "cell_type": "code",
   "execution_count": 15,
   "metadata": {},
   "outputs": [],
   "source": [
    "#TRIGRAM_D  表示letter trigrim 之后的维度\n",
    "TRIGRAM_D = 1000\n",
    "\n",
    "#定义query输入和doc输入\n",
    "query_batch = tf.sparse_placeholder(tf.float32, \n",
    "                                    shape=[None,TRIGRAM_D], \n",
    "                                    name='QueryBatch')\n",
    "doc_batch = tf.sparse_placeholder(tf.float32, \n",
    "                                    shape=[None, TRIGRAM_D], \n",
    "                                    name='DocBatch')"
   ]
  },
  {
   "cell_type": "code",
   "execution_count": 16,
   "metadata": {},
   "outputs": [],
   "source": [
    "#第一层输出维度\n",
    "L1_N = 300\n",
    "l1_par_range = np.sqrt(6.0 / (TRIGRAM_D + L1_N))\n",
    "weight1 = tf.Variable(tf.random_uniform([TRIGRAM_D, L1_N], \n",
    "                                        -l1_par_range, \n",
    "                                        l1_par_range))\n",
    "bias1 = tf.Variable(tf.random_uniform([L1_N], \n",
    "                                       -l1_par_range, \n",
    "                                       l1_par_range))\n",
    "\n",
    "#因为数据比较稀疏，所以用sparse_tensor_dense_matmul\n",
    "query_l1 = tf.sparse_tensor_dense_matmul(query_batch, weight1) + bias1\n",
    "doc_l1 = tf.sparse_tensor_dense_matmul(doc_batch, weight1) + bias1\n",
    "\n",
    "#激活层，也可以换成别的激活函数\n",
    "query_l1_out = tf.nn.tanh(query_l1)\n",
    "doc_l1_out = tf.nn.tanh(doc_l1)"
   ]
  },
  {
   "cell_type": "code",
   "execution_count": 18,
   "metadata": {},
   "outputs": [
    {
     "data": {
      "text/plain": [
       "<tf.Tensor 'Tanh:0' shape=(?, 300) dtype=float32>"
      ]
     },
     "execution_count": 18,
     "metadata": {},
     "output_type": "execute_result"
    }
   ],
   "source": [
    "query_l1_out"
   ]
  },
  {
   "cell_type": "code",
   "execution_count": 21,
   "metadata": {},
   "outputs": [],
   "source": [
    "#第二层的输出维度\n",
    "L2_N = 300\n",
    "l2_par_range = np.sqrt(6.0 / (L1_N+ L2_N))\n",
    "weight2 = tf.Variable(tf.random_uniform([L1_N, L2_N], \n",
    "                                        -l2_par_range, \n",
    "                                        l2_par_range))\n",
    "bias2 = tf.Variable(tf.random_uniform([L2_N], \n",
    "                                       -l2_par_range, \n",
    "                                       l2_par_range))\n",
    "\n",
    "query_l2 = tf.matmul(query_l1_out , weight2) + bias2\n",
    "doc_l2 = tf.matmul(doc_l1_out , weight2) + bias2\n",
    "\n",
    "query_l2_out = tf.nn.tanh(query_l2)\n",
    "doc_l2_out = tf.nn.tanh(doc_l2)\n",
    "\n",
    "#第三层\n",
    "L3_N = 128\n",
    "l3_par_range = np.sqrt(6.0 / (L2_N+ L3_N))\n",
    "weight3 = tf.Variable(tf.random_uniform([L2_N, L3_N], \n",
    "                                        -l3_par_range, \n",
    "                                        l3_par_range))\n",
    "bias3 = tf.Variable(tf.random_uniform([L3_N], \n",
    "                                       -l3_par_range, \n",
    "                                       l3_par_range))\n",
    "\n",
    "query_l3 = tf.matmul(query_l2_out , weight3) + bias3\n",
    "doc_l3 = tf.matmul(doc_l2_out , weight3) + bias3\n",
    "\n",
    "query_l3_out = tf.nn.tanh(query_l3)\n",
    "doc_l3_out = tf.nn.tanh(doc_l3)"
   ]
  },
  {
   "cell_type": "code",
   "execution_count": 28,
   "metadata": {},
   "outputs": [],
   "source": [
    "#NEG表示负样本的个数\n",
    "NEG  = 4\n",
    "\n",
    "# ||yq||\n",
    "query_norm = tf.tile(tf.sqrt(tf.reduce_sum(tf.square(query_l3_out ), 1, True)), \n",
    "                     [NEG + 1, 1])\n",
    "# ||yd||\n",
    "doc_norm = tf.sqrt(tf.reduce_sum(tf.square(doc_l3_out), 1, True))\n",
    "\n",
    "# yqT yd\n",
    "prod = tf.reduce_sum(tf.multiply(tf.tile(query_l3_out , [NEG + 1, 1]), doc_l3_out), 1, True)\n",
    "norm_prod = tf.multiply(query_norm, doc_norm)\n",
    "\n",
    "# cosine\n",
    "cos_sim_raw = tf.truediv(prod, norm_prod)\n",
    "#cos_sim = tf.transpose(tf.reshape(tf.transpose(cos_sim_raw), [NEG + 1, BS])) * Gamma\n",
    "cos_sim = cos_sim_raw"
   ]
  },
  {
   "cell_type": "code",
   "execution_count": 29,
   "metadata": {},
   "outputs": [
    {
     "data": {
      "text/plain": [
       "<tf.Tensor 'truediv_2:0' shape=(?, 1) dtype=float32>"
      ]
     },
     "execution_count": 29,
     "metadata": {},
     "output_type": "execute_result"
    }
   ],
   "source": [
    "cos_sim_raw"
   ]
  },
  {
   "cell_type": "code",
   "execution_count": 31,
   "metadata": {},
   "outputs": [],
   "source": [
    "#BS为batch_size，计算batch平均损失\n",
    "\n",
    "prob = tf.nn.softmax((cos_sim))\n",
    "\n",
    "#正例的softmax值\n",
    "hit_prob = tf.slice(prob, [0, 0], [-1, 1])\n",
    "\n",
    "#最小化loss，计算batch的平均损失\n",
    "loss = -tf.reduce_sum(tf.log(hit_prob)) / 1000"
   ]
  },
  {
   "cell_type": "code",
   "execution_count": 34,
   "metadata": {},
   "outputs": [
    {
     "data": {
      "text/plain": [
       "(<tf.Tensor 'truediv_3:0' shape=() dtype=float32>,\n",
       " <tf.Tensor 'Softmax_6:0' shape=(?, 1) dtype=float32>,\n",
       " <tf.Tensor 'Slice_1:0' shape=(?, 1) dtype=float32>)"
      ]
     },
     "execution_count": 34,
     "metadata": {},
     "output_type": "execute_result"
    }
   ],
   "source": [
    "loss,prob,hit_prob"
   ]
  },
  {
   "cell_type": "code",
   "execution_count": 35,
   "metadata": {},
   "outputs": [
    {
     "ename": "SyntaxError",
     "evalue": "invalid syntax (<ipython-input-35-0a97e00b935b>, line 8)",
     "output_type": "error",
     "traceback": [
      "\u001b[1;36m  File \u001b[1;32m\"<ipython-input-35-0a97e00b935b>\"\u001b[1;36m, line \u001b[1;32m8\u001b[0m\n\u001b[1;33m    doc_batch   : ...}})\u001b[0m\n\u001b[1;37m    ^\u001b[0m\n\u001b[1;31mSyntaxError\u001b[0m\u001b[1;31m:\u001b[0m invalid syntax\n"
     ]
    }
   ],
   "source": [
    "#定义优化方法和学习率\n",
    "train_step = tf.train.GradientDescentOptimizer(FLAGS.learning_rate).minimize(loss)\n",
    "\n",
    "with tf.Session(config=config) as sess:\n",
    "    sess.run(tf.initialize_all_variables())\n",
    "    for step in range(FLAGS.max_steps):\n",
    "        sess.run(train_step, feed_dict={query_batch : ...\n",
    "                                        doc_batch   : ...}})"
   ]
  },
  {
   "cell_type": "code",
   "execution_count": null,
   "metadata": {},
   "outputs": [],
   "source": []
  }
 ],
 "metadata": {
  "kernelspec": {
   "display_name": "Python 3",
   "language": "python",
   "name": "python3"
  },
  "language_info": {
   "codemirror_mode": {
    "name": "ipython",
    "version": 3
   },
   "file_extension": ".py",
   "mimetype": "text/x-python",
   "name": "python",
   "nbconvert_exporter": "python",
   "pygments_lexer": "ipython3",
   "version": "3.8.5"
  }
 },
 "nbformat": 4,
 "nbformat_minor": 4
}
